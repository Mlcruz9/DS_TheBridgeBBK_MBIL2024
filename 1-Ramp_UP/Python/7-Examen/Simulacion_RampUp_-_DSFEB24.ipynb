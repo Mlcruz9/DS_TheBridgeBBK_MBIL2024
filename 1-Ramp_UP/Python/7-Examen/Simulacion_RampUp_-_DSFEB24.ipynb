{
 "cells": [
  {
   "attachments": {},
   "cell_type": "markdown",
   "metadata": {},
   "source": [
    "# Simulación Test RAMP UP DS-FT FEBRERO 2024"
   ]
  },
  {
   "cell_type": "markdown",
   "metadata": {},
   "source": [
    "Antes de comenzar, cambia el nombre del archivo notebook poniéndole delante tu nombre y primer apellido:\n",
    "\n",
    "* nombre_apellido_test_pract_feb_2024.ipynb"
   ]
  },
  {
   "cell_type": "code",
   "execution_count": 1,
   "metadata": {},
   "outputs": [],
   "source": [
    "# Escribe tu nombre y apellidos (apellido si solo tienes uno) en las variables:\n",
    "nombre = \"Miguel\"\n",
    "apellidos = \"La Cruz\""
   ]
  },
  {
   "cell_type": "code",
   "execution_count": 2,
   "metadata": {},
   "outputs": [
    {
     "name": "stdout",
     "output_type": "stream",
     "text": [
      "Bienvenido Miguel La Cruz. Mucha suerte!\n"
     ]
    }
   ],
   "source": [
    "# Solo ejecutar\n",
    "nombre_apellidos = nombre + ' ' + apellidos\n",
    "print(\"Bienvenido\", nombre_apellidos + '. Mucha suerte!')"
   ]
  },
  {
   "cell_type": "markdown",
   "metadata": {},
   "source": [
    "-----------------"
   ]
  },
  {
   "cell_type": "code",
   "execution_count": 2,
   "metadata": {},
   "outputs": [],
   "source": [
    "\"\"\"\n",
    "Criterios de corrección:\n",
    "\n",
    "ejecución (ausencia de errores y obtención de resultados)\n",
    "estructura del código\n",
    "uso correcto de variables\n",
    "manejo de tipo de variables\n",
    "asignaciones\n",
    "operaciones booleanas\n",
    "manejo lógico de flujos de control y bucles\n",
    "uso de colecciones\n",
    "uso de funciones\n",
    "\"\"\";\n",
    "\n",
    "# Ejemplo de como queremos ver el código para más de un intento:\n",
    "\n",
    "# intento 1\n",
    "#your code\n",
    "\n",
    "# intento 2\n",
    "#your code"
   ]
  },
  {
   "cell_type": "markdown",
   "metadata": {},
   "source": [
    "#### Notas y pruebas de apoyo para contestar las preguntas\n",
    "\n",
    "\n",
    "Cualquier código aunque no esté correcto nos dirá más de ti que no escribir nada. "
   ]
  },
  {
   "cell_type": "markdown",
   "metadata": {},
   "source": [
    "__Debes subir tus respuestas antes de las 12:00 al enlace que habilitaremos__\n",
    "En dos horas largas debería dar tiempo. ***¡guarda todo lo que hagas!***"
   ]
  },
  {
   "cell_type": "code",
   "execution_count": null,
   "metadata": {},
   "outputs": [],
   "source": [
    "# No te olvides de documentar el código para dejar clara la lógica, sobre todo cuando no sale el resultado"
   ]
  },
  {
   "cell_type": "markdown",
   "metadata": {},
   "source": [
    "---"
   ]
  },
  {
   "cell_type": "markdown",
   "metadata": {},
   "source": [
    "#### **Ejercicio 1**\n",
    "\n",
    "Escribe un programa que simule un libro de \"sigue tu propia aventura\". Solo se pide control de flujo y uso de print().\n",
    "\n",
    "El programa tiene dos variables:\n",
    "\n",
    "*puerta* --> es una variable de tipo entero\n",
    "\n",
    "*amuleto* --> es una variable booleana\n",
    "\n",
    "\n",
    "    · Si la puerta que eliges es la 1, imprime \"has perdido\"\n",
    "\n",
    "    · Si la puerta que eliges es la 2 y tienes el amuleto (verdadero), imprime \"has ganado\"\n",
    "\n",
    "    · En cualquier otro caso, imprime \"sigue jugando\"\n",
    "\n",
    "Haz este programa de dos formas: usando un AND y sin usar un AND\n",
    "\n",
    "Nota: no son necesarias funciones. Puedes declarar puerta y amuleto al principio de tu programa."
   ]
  },
  {
   "cell_type": "code",
   "execution_count": null,
   "metadata": {},
   "outputs": [],
   "source": []
  },
  {
   "cell_type": "markdown",
   "metadata": {},
   "source": [
    "#### **Ejercicio 2**\n",
    "\n",
    "Escribe un programa que solicite al usuario un número entero positivo n y luego imprima un triángulo de asteriscos (*) de altura n. Por ejemplo, si el usuario ingresa 5, el programa debería imprimir:"
   ]
  },
  {
   "cell_type": "markdown",
   "metadata": {},
   "source": []
  },
  {
   "cell_type": "code",
   "execution_count": null,
   "metadata": {},
   "outputs": [],
   "source": [
    "'''\n",
    "\n",
    "*\n",
    "*  *  \n",
    "*  *  *  \n",
    "*  *  *  *\n",
    "*  *  *  *  *\n",
    "\n",
    "'''"
   ]
  },
  {
   "cell_type": "code",
   "execution_count": null,
   "metadata": {},
   "outputs": [],
   "source": []
  },
  {
   "cell_type": "markdown",
   "metadata": {},
   "source": [
    "#### **Ejercicio 3**\n",
    "Crea una clase Flor que instancia todos los atributos como parámetros del constructor.\n",
    "Atributos:\n",
    "\n",
    "nombre --> string que es el nombre de la flor\n",
    "\n",
    "venenosa --> un booleano que indica si es venenosa\n",
    "\n",
    "lista_viveros --> una lista de strings que son los viveros donde se puede comprar\n",
    "\n",
    "métodos de la clase:\n",
    "\n",
    "cantidad_de_viveros --> sin parámetros de entrada, devuelve un entero que es en cuántos sitios se puede comprar\n",
    "\n",
    "imprime_info --> con un parámetro de entrada que es un string llamado *nombre*, no devuelve ningún valor pero imprime el mensaje \"Hola *nombre*, la flor *flor* es/no es venenosa y se puede comprar en X viveros\"\n",
    "\n",
    "donde *nombre* es el parámetro de entrada, *flor* es el nombre de la flor, es/no es venenosa depende de la flor (tiene que estar ajustado a la flor) y X es el número de viveros donde se puede comprar.\n",
    "El constructor **DEBE** tener valores por defecto.\n",
    "\n",
    "Crea una flor por defecto e imprime su información.\n",
    "Nota: No te preocupes si la sintaxis no es perfecta.\n",
    "Esto es válido:\n",
    "\n",
    "Hola Alberto la flor rosa no es venenosa y se puede comprar en 1 viveros"
   ]
  },
  {
   "cell_type": "code",
   "execution_count": null,
   "metadata": {},
   "outputs": [],
   "source": []
  },
  {
   "cell_type": "markdown",
   "metadata": {},
   "source": [
    "#### **Ejercicio 4**\n",
    "\n",
    "Crea un programa que pida una contraseña por teclado e indique si es correcta\n",
    "o incorrecta con un print(). La contraseña correcta es “python”. Si la contraseña era incorrecta la pide de nuevo hasta 3 veces como máximo. Si al tercer intento no se acierta, debe ponerse a None y poner en un print() que la cuenta se ha bloqueado. Si se consigue entrar, se muestra que es correcta en un print(). Debe haber como mínimo un **BUCLE WHILE**"
   ]
  },
  {
   "cell_type": "code",
   "execution_count": null,
   "metadata": {},
   "outputs": [],
   "source": []
  },
  {
   "cell_type": "markdown",
   "metadata": {},
   "source": [
    "#### **Ejercicio 5**\n",
    "Una empresa usa dos listas  para guardar la información de sus empleados. Una lista guarda el nombre del empleado y la otra guarda su salario. Escribe un programa que cree esas dos listas originalmente vacías y que a través de un menú pueda hacer lo siguiente:\n",
    "    \n",
    "        Inserta 1 para añadir un nuevo empleado y su salario\n",
    "\n",
    "        Inserta 2 para imprimir los nombres y salarios de todos los empleados\n",
    "\n",
    "        Inserta 3 para mostrar el número de empleados\n",
    "\n",
    "        Inserta 4 para imprimir los nombres de los empleados con sueldos superiores a 400000\n",
    "\n",
    "        Inserta 5 para subir un 5% los sueldos por debajo de 10000\n",
    "\n",
    "        Inserta 6 para mostrar el total de todos los salarios\n",
    "\n",
    "        Inserta 7 para salir del programa"
   ]
  },
  {
   "cell_type": "code",
   "execution_count": null,
   "metadata": {},
   "outputs": [],
   "source": []
  },
  {
   "attachments": {},
   "cell_type": "markdown",
   "metadata": {},
   "source": [
    "¡Has terminado!\n",
    "\n",
    "Adjunta este fichero en la tarea de examen de classroom"
   ]
  }
 ],
 "metadata": {
  "kernelspec": {
   "display_name": "Python 3",
   "language": "python",
   "name": "python3"
  },
  "language_info": {
   "codemirror_mode": {
    "name": "ipython",
    "version": 3
   },
   "file_extension": ".py",
   "mimetype": "text/x-python",
   "name": "python",
   "nbconvert_exporter": "python",
   "pygments_lexer": "ipython3",
   "version": "3.11.3"
  },
  "orig_nbformat": 4,
  "vscode": {
   "interpreter": {
    "hash": "1e989a6a87260c027f3014f78a3a3d191394072689c96a40223c8499353d25ee"
   }
  }
 },
 "nbformat": 4,
 "nbformat_minor": 2
}
