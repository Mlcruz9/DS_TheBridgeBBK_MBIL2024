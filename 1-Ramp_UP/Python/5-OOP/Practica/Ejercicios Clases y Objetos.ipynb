{
 "cells": [
  {
   "cell_type": "markdown",
   "metadata": {},
   "source": [
    "![imagen](./img/ejercicios.png)\n",
    "\n",
    "# Ejercicios Clases y Objetos"
   ]
  },
  {
   "cell_type": "markdown",
   "metadata": {},
   "source": [
    "## Ejercicio 1\n",
    "Somos una empresa que tiene varias tiendas de electrodomesticos. Necesitamos un programa para manejar las tiendas, ver las ventas que han tenido, cuántos empleados hay, etc... Para ello vamos a modelizar la tienda en una clase, que tendrá las siguientes características:\n",
    "* Nombre clase: \"Tienda\"\n",
    "* Atributos comunes:\n",
    "    * Tipo: \"Electrodomésticos\"\n",
    "    * Abierta: True\n",
    "* Atributos propios de cada tienda:\n",
    "    * Nombre - String\n",
    "    * Dirección - String\n",
    "    * Número de empleados - int\n",
    "    * Ventas ultimos 3 meses - Lista de 3 numeros\n",
    "* Método para calcular las ventas de todos los meses, que devuelva un numero con todas las ventas.\n",
    "* Método que calcula la media de ventas de los últimos meses, por empleado\n",
    "* Método que devuelve en un string el nombre de la tienda, junto con su dirección.\n",
    "* Método que obtiene las ventas del último mes.\n",
    "* Método para dar una proyección de las ventas en caso de haber invertido X dinero en marketing en esa tienda. Siendo X el parámetro de entrada. Si X es menor de 1000, las ventas de los ultimos 3 meses hubiesen sido de (1.2 x ventas), si es mayor o igual de 1000, las ventas hubiesen sido de (1.5 x venta). El método reescribe el atributo de ventas en los últimos 3 meses, y además devuelve las ventas con el aumento.\n",
    "\n",
    "Se pide:\n",
    "1. Implementar la clase \"Tienda\"\n",
    "2. Crear tres tiendas con datos inventados\n",
    "3. Comprueba en al menos una de ellas, todo lo implementado en la clase tienda (sus atributos, media de ventas, ventas/empleado...)\n",
    "3. Calcular las ventas del último mes de todas las tiendas. Para ello usa el bucle `for`\n",
    "4. Imprime por pantalla los nombres de las tiendas cuya dirección lleve el string \"Avenida\"\n",
    "5. Seguro que ya has hecho este apartado... Documenta la clase :)"
   ]
  },
  {
   "cell_type": "code",
   "execution_count": 32,
   "metadata": {},
   "outputs": [
    {
     "name": "stdout",
     "output_type": "stream",
     "text": [
      "Hola Mundo\n",
      "Todo Bien\n"
     ]
    }
   ],
   "source": [
    "diccionario = {\"Hola\": \"Mundo\",\n",
    "               \"Todo\": \"Bien\"}\n",
    "\n",
    "\n",
    "for i, j in diccionario.items():\n",
    "    print(i, j)"
   ]
  },
  {
   "cell_type": "code",
   "execution_count": 33,
   "metadata": {},
   "outputs": [
    {
     "data": {
      "text/plain": [
       "dict_items([('Hola', 'Mundo'), ('Todo', 'Bien')])"
      ]
     },
     "execution_count": 33,
     "metadata": {},
     "output_type": "execute_result"
    }
   ],
   "source": [
    "diccionario.items()"
   ]
  },
  {
   "cell_type": "code",
   "execution_count": 30,
   "metadata": {},
   "outputs": [],
   "source": [
    "class Tienda:\n",
    "    '''Esta es una clase para modelar mis tiendas.\n",
    "    Tiene distintos argumentos.'''\n",
    "\n",
    "    tipo = \"Electrodomésticos\"\n",
    "    abierta = True\n",
    "\n",
    "    def __init__(self, nombre:str, direccion:str, numero_empelados:int, ventas_ult_3m: list):\n",
    "        '''Este es el constructor de la clase tienda.'''\n",
    "        self.nombre = nombre\n",
    "        self.direccion = direccion\n",
    "        self.numero_empleados = numero_empelados\n",
    "        self.ventas_ult_3m = ventas_ult_3m\n",
    "    \n",
    "    def ventas_totales(self):\n",
    "        return sum(self.ventas_ult_3m)\n",
    "    \n",
    "    def ventas_empleado(self):\n",
    "        medias_empleados = []\n",
    "\n",
    "        for i in range(len(self.ventas_ult_3m)):\n",
    "            medias_empleados.append(self.ventas_ult_3m[i]/self.numero_empleados)\n",
    "\n",
    "        return medias_empleados\n",
    "    \n",
    "    def info_tienda(self):\n",
    "        return f'Dirección: {self.direccion}, Nombre: {self.nombre}'\n",
    "    \n",
    "    def ventas_ult_mes(self):\n",
    "        return self.ventas_ult_3m[-1]\n",
    "    \n",
    "    def ventas_inversion(self, inversion):\n",
    "        if inversion < 1000:\n",
    "            for i in range(len(self.ventas_ult_3m)):\n",
    "                self.ventas_ult_3m[i] = self.ventas_ult_3m[i] * 1.2\n",
    "        \n",
    "        else:\n",
    "            for i in range(len(self.ventas_ult_3m)):\n",
    "                self.ventas_ult_3m[i] = self.ventas_ult_3m[i] * 1.5\n",
    "            \n",
    "        \n",
    "        return self.ventas_ult_3m"
   ]
  },
  {
   "cell_type": "code",
   "execution_count": 2,
   "metadata": {},
   "outputs": [],
   "source": [
    "tienda1 = Tienda(\"Siemens\", \"Avenida Siemens\", 20, [15000, 20000, 10000])\n",
    "tienda2 = Tienda(\"Fagor\", \"Calle Fagor\", 15, [2000, 8000, 10000])\n",
    "tienda3 = Tienda(\"Bosch\", \"Vereda Bosch\", 10, [5000, 7000, 10000])"
   ]
  },
  {
   "cell_type": "code",
   "execution_count": 3,
   "metadata": {},
   "outputs": [
    {
     "name": "stdout",
     "output_type": "stream",
     "text": [
      "True\n",
      "Electrodomésticos\n",
      "Avenida Siemens\n",
      "Siemens\n",
      "20\n",
      "[15000, 20000, 10000]\n"
     ]
    }
   ],
   "source": [
    "print(tienda1.abierta)\n",
    "print(tienda1.tipo)\n",
    "print(tienda1.direccion)\n",
    "print(tienda1.nombre)\n",
    "print(tienda1.numero_empleados)\n",
    "print(tienda1.ventas_ult_3m)"
   ]
  },
  {
   "cell_type": "code",
   "execution_count": 4,
   "metadata": {},
   "outputs": [
    {
     "data": {
      "text/plain": [
       "{'nombre': 'Siemens',\n",
       " 'direccion': 'Avenida Siemens',\n",
       " 'numero_empleados': 20,\n",
       " 'ventas_ult_3m': [15000, 20000, 10000]}"
      ]
     },
     "execution_count": 4,
     "metadata": {},
     "output_type": "execute_result"
    }
   ],
   "source": [
    "tienda1.__dict__"
   ]
  },
  {
   "cell_type": "code",
   "execution_count": 10,
   "metadata": {},
   "outputs": [
    {
     "data": {
      "text/plain": [
       "{'nombre': 'Siemens',\n",
       " 'direccion': 'Avenida Siemens',\n",
       " 'numero_empleados': 20,\n",
       " 'ventas_ult_3m': [15000, 20000, 10000]}"
      ]
     },
     "execution_count": 10,
     "metadata": {},
     "output_type": "execute_result"
    }
   ],
   "source": [
    "vars(tienda1)"
   ]
  },
  {
   "cell_type": "code",
   "execution_count": 11,
   "metadata": {},
   "outputs": [],
   "source": [
    "import json"
   ]
  },
  {
   "cell_type": "code",
   "execution_count": 16,
   "metadata": {},
   "outputs": [
    {
     "data": {
      "text/plain": [
       "'{\\n    \"nombre\": \"Siemens\",\\n    \"direccion\": \"Avenida Siemens\",\\n    \"numero_empleados\": 20,\\n    \"ventas_ult_3m\": [\\n        15000,\\n        20000,\\n        10000\\n    ]\\n}'"
      ]
     },
     "execution_count": 16,
     "metadata": {},
     "output_type": "execute_result"
    }
   ],
   "source": [
    "# json.dumps(tienda1.__dict__, indent=4)"
   ]
  },
  {
   "cell_type": "code",
   "execution_count": 17,
   "metadata": {},
   "outputs": [
    {
     "data": {
      "text/plain": [
       "45000"
      ]
     },
     "execution_count": 17,
     "metadata": {},
     "output_type": "execute_result"
    }
   ],
   "source": [
    "tienda1.ventas_totales()"
   ]
  },
  {
   "cell_type": "code",
   "execution_count": 18,
   "metadata": {},
   "outputs": [
    {
     "data": {
      "text/plain": [
       "[750.0, 1000.0, 500.0]"
      ]
     },
     "execution_count": 18,
     "metadata": {},
     "output_type": "execute_result"
    }
   ],
   "source": [
    "tienda1.ventas_empleado()"
   ]
  },
  {
   "cell_type": "code",
   "execution_count": 19,
   "metadata": {},
   "outputs": [
    {
     "data": {
      "text/plain": [
       "'Dirección: Avenida Siemens, Nombre: Siemens'"
      ]
     },
     "execution_count": 19,
     "metadata": {},
     "output_type": "execute_result"
    }
   ],
   "source": [
    "tienda1.info_tienda()"
   ]
  },
  {
   "cell_type": "code",
   "execution_count": 21,
   "metadata": {},
   "outputs": [
    {
     "data": {
      "text/plain": [
       "10000"
      ]
     },
     "execution_count": 21,
     "metadata": {},
     "output_type": "execute_result"
    }
   ],
   "source": [
    "tienda1.ventas_ult_mes()"
   ]
  },
  {
   "cell_type": "code",
   "execution_count": 22,
   "metadata": {},
   "outputs": [
    {
     "data": {
      "text/plain": [
       "[22500.0, 30000.0, 15000.0]"
      ]
     },
     "execution_count": 22,
     "metadata": {},
     "output_type": "execute_result"
    }
   ],
   "source": [
    "tienda1.ventas_inversion(1200)"
   ]
  },
  {
   "cell_type": "code",
   "execution_count": 23,
   "metadata": {},
   "outputs": [
    {
     "data": {
      "text/plain": [
       "[22500.0, 30000.0, 15000.0]"
      ]
     },
     "execution_count": 23,
     "metadata": {},
     "output_type": "execute_result"
    }
   ],
   "source": [
    "tienda1.ventas_ult_3m"
   ]
  },
  {
   "cell_type": "code",
   "execution_count": 24,
   "metadata": {},
   "outputs": [
    {
     "name": "stdout",
     "output_type": "stream",
     "text": [
      "15000.0\n",
      "10000\n",
      "10000\n"
     ]
    }
   ],
   "source": [
    "tiendas = [tienda1, tienda2, tienda3]\n",
    "\n",
    "for tienda in tiendas:\n",
    "    print(tienda.ventas_ult_mes()) "
   ]
  },
  {
   "cell_type": "code",
   "execution_count": 25,
   "metadata": {},
   "outputs": [
    {
     "name": "stdout",
     "output_type": "stream",
     "text": [
      "Siemens\n"
     ]
    }
   ],
   "source": [
    "for tienda in tiendas:\n",
    "    if \"Avenida\" in tienda.direccion:\n",
    "        print(tienda.nombre)"
   ]
  },
  {
   "cell_type": "code",
   "execution_count": 31,
   "metadata": {},
   "outputs": [],
   "source": [
    "tienda1.__doc__"
   ]
  },
  {
   "cell_type": "markdown",
   "metadata": {},
   "source": [
    "## Ejercicio 2\n",
    "En este ejercicio vamos a implementar una clase *Perro* en Python. La clase tiene las siguientes características:\n",
    "* Cosas que sabemos seguro que tiene un perro\n",
    "    * Tiene 4 patas\n",
    "    * 2 orejas\n",
    "    * 2 ojos\n",
    "    * Una velocidad de 0. Por defecto, el perro está parado\n",
    "* Cuando se inicialice:\n",
    "    * El perro será de una determinada raza\n",
    "    * Por defecto tendrá pelo \"Marrón\", a no ser que se diga lo contrario.\n",
    "    * Por defecto no tendrá dueño, a no ser que se diga lo contrario.\n",
    "    \n",
    "* Dispondrá también de un método llamado andar, que tiene un argumento de entrada (aumento_velocidad). Este valor se le sumará a la velocidad que ya llevaba el perro.\n",
    "* Necesita otro método (parar), donde pondremos la velocidad a 0.\n",
    "* Otro método llamado \"ladrar\", que tendrá un argumento de entrada, y la salida será el siguiente string: \"GUAU!\" + el argumento de entrada.\n",
    "\n",
    "\n",
    "Se pide:\n",
    "* Implementa la clase *Perro*\n",
    "* Crea un objeto de tipo *Perro*, sin dueño\n",
    "* Comprueba que están bien todos sus atributos\n",
    "* Prueba que ande, y comprueba su velocidad\n",
    "* Páralo\n",
    "* Documenta la clase *Perro*"
   ]
  },
  {
   "cell_type": "code",
   "execution_count": 53,
   "metadata": {},
   "outputs": [],
   "source": [
    "class Perro:\n",
    "    '''Esta es una clase que modela un perro'''\n",
    "    patas = 4\n",
    "    orejas = 2\n",
    "    ojos = 2\n",
    "    velocidad = 0\n",
    "\n",
    "    def __init__(self, raza:str, pelo:str = \"Marrón\", duenio:bool = None):\n",
    "        '''Varios atributos de un perro'''\n",
    "        self.raza = raza\n",
    "        self.pelo = pelo\n",
    "        self.duenio = duenio\n",
    "    \n",
    "    def andar(self, velocidad_andar):\n",
    "        self.velocidad = self.velocidad + velocidad_andar\n",
    "        return self.velocidad\n",
    "\n",
    "    def parar(self):\n",
    "        self.velocidad = 0\n",
    "    \n",
    "    def ladrar(self, saludo):\n",
    "        print(f'GUAUUU! {saludo}')"
   ]
  },
  {
   "cell_type": "code",
   "execution_count": 51,
   "metadata": {},
   "outputs": [],
   "source": [
    "perro1 = Perro(\"Chow Chow\", \"Marrón\")\n"
   ]
  },
  {
   "cell_type": "code",
   "execution_count": 48,
   "metadata": {},
   "outputs": [],
   "source": [
    "velocidad_de_andar = perro1.andar(10)"
   ]
  },
  {
   "cell_type": "code",
   "execution_count": 49,
   "metadata": {},
   "outputs": [
    {
     "name": "stdout",
     "output_type": "stream",
     "text": [
      "10\n"
     ]
    }
   ],
   "source": [
    "print(velocidad_de_andar)"
   ]
  },
  {
   "cell_type": "code",
   "execution_count": 36,
   "metadata": {},
   "outputs": [
    {
     "data": {
      "text/plain": [
       "{'raza': 'Chow Chow', 'pelo': 'Marrón', 'duenio': False}"
      ]
     },
     "execution_count": 36,
     "metadata": {},
     "output_type": "execute_result"
    }
   ],
   "source": [
    "perro1.__dict__"
   ]
  },
  {
   "cell_type": "code",
   "execution_count": 38,
   "metadata": {},
   "outputs": [
    {
     "name": "stdout",
     "output_type": "stream",
     "text": [
      "0\n",
      "10\n",
      "0\n"
     ]
    }
   ],
   "source": [
    "print(perro1.velocidad)\n",
    "\n",
    "perro1.andar(10)\n",
    "print(perro1.velocidad)\n",
    "\n",
    "perro1.parar()\n",
    "print(perro1.velocidad)"
   ]
  },
  {
   "cell_type": "code",
   "execution_count": 39,
   "metadata": {},
   "outputs": [
    {
     "name": "stdout",
     "output_type": "stream",
     "text": [
      "GUAUUU! Que bueno es python!\n"
     ]
    }
   ],
   "source": [
    "perro1.ladrar(\"Que bueno es python!\")"
   ]
  }
 ],
 "metadata": {
  "kernelspec": {
   "display_name": "Python 3",
   "language": "python",
   "name": "python3"
  },
  "language_info": {
   "codemirror_mode": {
    "name": "ipython",
    "version": 3
   },
   "file_extension": ".py",
   "mimetype": "text/x-python",
   "name": "python",
   "nbconvert_exporter": "python",
   "pygments_lexer": "ipython3",
   "version": "3.10.2"
  },
  "vscode": {
   "interpreter": {
    "hash": "1e989a6a87260c027f3014f78a3a3d191394072689c96a40223c8499353d25ee"
   }
  }
 },
 "nbformat": 4,
 "nbformat_minor": 4
}
