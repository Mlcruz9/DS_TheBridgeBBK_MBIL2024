{
 "cells": [
  {
   "cell_type": "markdown",
   "metadata": {},
   "source": [
    "# Ejercicios programación funcional"
   ]
  },
  {
   "cell_type": "markdown",
   "metadata": {},
   "source": [
    "### 1. Utiliza map para elevar al cuadrado cada número en la lista [1, 2, 3, 4, 5].\n",
    "\n",
    "Solución esperada: [1, 4, 9, 16, 25]"
   ]
  },
  {
   "cell_type": "code",
   "execution_count": 22,
   "metadata": {},
   "outputs": [
    {
     "name": "stdout",
     "output_type": "stream",
     "text": [
      "[1, 4, 9, 16, 25]\n"
     ]
    }
   ],
   "source": [
    "lista_1 = [1, 2, 3, 4, 5]\n",
    "\n",
    "resultado = list(map(lambda x: x**2, lista_1))\n",
    "print(resultado)"
   ]
  },
  {
   "cell_type": "markdown",
   "metadata": {},
   "source": [
    "### 2. Filtrar números pares de una lista:\n",
    "\n",
    "Emplea filter para obtener sólo los números pares de la lista [1, 2, 3, 4, 5, 6].\n",
    "\n",
    "Solución esperada: [2, 4, 6]"
   ]
  },
  {
   "cell_type": "code",
   "execution_count": 7,
   "metadata": {},
   "outputs": [
    {
     "name": "stdout",
     "output_type": "stream",
     "text": [
      "[2, 4, 6]\n"
     ]
    }
   ],
   "source": [
    "lista_2 = [1, 2, 3, 4, 5, 6]\n",
    "\n",
    "resultado_2 = list(filter(lambda x : x % 2 == 0, lista_2))\n",
    "print(resultado_2)"
   ]
  },
  {
   "cell_type": "markdown",
   "metadata": {},
   "source": [
    "### 3. Convertir grados Celsius a Fahrenheit:\n",
    "\n",
    "Usa map y una función lambda para convertir una lista de temperaturas en grados Celsius [0, 10, 20, 30] a Fahrenheit.\n",
    "\n",
    "Solución esperada: [32.0, 50.0, 68.0, 86.0]"
   ]
  },
  {
   "cell_type": "code",
   "execution_count": 21,
   "metadata": {},
   "outputs": [
    {
     "name": "stdout",
     "output_type": "stream",
     "text": [
      "[32.0, 50.0, 68.0, 86.0]\n"
     ]
    }
   ],
   "source": [
    "lista_3 = [0, 10, 20, 30]\n",
    "\n",
    "resultado_3 = list(map(lambda x: (x * 9/5) + 32, lista_3))\n",
    "\n",
    "print(resultado_3)"
   ]
  },
  {
   "cell_type": "markdown",
   "metadata": {},
   "source": [
    "### 4. Sumar los cuadrados de los números pares de una lista:\n",
    "\n",
    "Combina filter, map y reduce (importa reduce desde functools) para sumar los cuadrados de los números pares en [1, 2, 3, 4, 5, 6].\n",
    "\n",
    "Solución esperada: 56"
   ]
  },
  {
   "cell_type": "code",
   "execution_count": 10,
   "metadata": {},
   "outputs": [],
   "source": [
    "from functools import reduce"
   ]
  },
  {
   "cell_type": "code",
   "execution_count": 23,
   "metadata": {},
   "outputs": [
    {
     "data": {
      "text/plain": [
       "56"
      ]
     },
     "execution_count": 23,
     "metadata": {},
     "output_type": "execute_result"
    }
   ],
   "source": [
    "lista_3 = [1, 2, 3, 4, 5, 6]\n",
    "\n",
    "reduce(lambda x, y: x + y, (map(lambda x: x**2, (filter(lambda x: x % 2 == 0, lista_3)))))"
   ]
  },
  {
   "cell_type": "markdown",
   "metadata": {},
   "source": [
    "### 5. Encadenar map, filter, y reduce para resolver un problema complejo:\n",
    "\n",
    "Dada una lista de strings que representan números enteros y \"NA\" (por ejemplo, [\"2\", \"5\", \"NA\", \"9\", \"10\"]), convierte los números a enteros, filtra los \"NA\", suma el cuadrado de los números que son mayores que 5 y menores que 10.\n",
    "\n",
    "Solución esperada: Un único valor que es la suma de los cuadrados de los números válidos."
   ]
  },
  {
   "cell_type": "code",
   "execution_count": 29,
   "metadata": {},
   "outputs": [
    {
     "data": {
      "text/plain": [
       "82"
      ]
     },
     "execution_count": 29,
     "metadata": {},
     "output_type": "execute_result"
    }
   ],
   "source": [
    "lista_4 = [\"2\", \"5\", \"NA\", \"9\", \"10\"]\n",
    "\n",
    "reduce(lambda x, y: x**2 + y**2, list(filter(lambda x: x > 5 and x < 10, \\\n",
    "        list(map(lambda x: int(x), list(filter(lambda x: x != \"NA\", lista_4)))))), 1)"
   ]
  }
 ],
 "metadata": {
  "kernelspec": {
   "display_name": "Python 3",
   "language": "python",
   "name": "python3"
  },
  "language_info": {
   "codemirror_mode": {
    "name": "ipython",
    "version": 3
   },
   "file_extension": ".py",
   "mimetype": "text/x-python",
   "name": "python",
   "nbconvert_exporter": "python",
   "pygments_lexer": "ipython3",
   "version": "3.10.2"
  }
 },
 "nbformat": 4,
 "nbformat_minor": 2
}
