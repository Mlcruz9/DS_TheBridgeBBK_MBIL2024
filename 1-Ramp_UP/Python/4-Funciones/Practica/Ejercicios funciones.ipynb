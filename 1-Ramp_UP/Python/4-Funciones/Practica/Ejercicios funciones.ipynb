{
 "cells": [
  {
   "cell_type": "markdown",
   "metadata": {},
   "source": [
    "![imagen](./img/ejercicios.png)"
   ]
  },
  {
   "cell_type": "markdown",
   "metadata": {},
   "source": [
    "# Ejercicios funciones\n",
    "## Ejercicio 1\n",
    "Escribe una función que convierta números del 1 al 7 en nombres de los dias de la semana. La función constará de un único argumento numérico y una salida de tipo string"
   ]
  },
  {
   "cell_type": "code",
   "execution_count": 52,
   "metadata": {},
   "outputs": [],
   "source": [
    "def dia_num(numero_dia):\n",
    "    if numero_dia == 1:\n",
    "        return \"Lunes\"\n",
    "    elif numero_dia == 2:\n",
    "        return \"Martes\"\n",
    "    elif numero_dia == 3:\n",
    "        return \"Miércoles\"\n",
    "    elif numero_dia == 4:\n",
    "        return \"Jueves\"\n",
    "    elif numero_dia == 5:\n",
    "        return \"Viernes\"\n",
    "    elif numero_dia == 6:\n",
    "        return \"Sábado\"\n",
    "    elif numero_dia == 7:\n",
    "        return \"Domingo\""
   ]
  },
  {
   "cell_type": "code",
   "execution_count": 53,
   "metadata": {},
   "outputs": [
    {
     "data": {
      "text/plain": [
       "'Viernes'"
      ]
     },
     "execution_count": 53,
     "metadata": {},
     "output_type": "execute_result"
    }
   ],
   "source": [
    "dia_num(5)"
   ]
  },
  {
   "cell_type": "markdown",
   "metadata": {},
   "source": [
    "## Ejercicio 2\n",
    "En el ejercicio 8 de flujos de control, creábamos una pirámide invertida de números desde el 5. Crea una función que replique el comportamiento de la pirámide, y utiliza un único parámetro de entrada de la función para determinar el número de filas de la pirámide."
   ]
  },
  {
   "cell_type": "code",
   "execution_count": 57,
   "metadata": {},
   "outputs": [
    {
     "name": "stdout",
     "output_type": "stream",
     "text": [
      "5 4 3 2 1\n",
      "4 3 2 1\n",
      "3 2 1\n",
      "2 1\n",
      "1\n"
     ]
    }
   ],
   "source": [
    "\n",
    "for i in range(len(lista_num)):\n",
    "    print(*lista_num)\n",
    "    lista_num.pop(0)"
   ]
  },
  {
   "cell_type": "code",
   "execution_count": 62,
   "metadata": {},
   "outputs": [],
   "source": [
    "def piramide_inv(numero_piramide):\n",
    "    lista_num = list(range(numero_piramide, 0, -1))\n",
    "\n",
    "    for i in range(len(lista_num)):\n",
    "        print(*lista_num)\n",
    "        lista_num.pop(0)"
   ]
  },
  {
   "cell_type": "code",
   "execution_count": 63,
   "metadata": {},
   "outputs": [
    {
     "name": "stdout",
     "output_type": "stream",
     "text": [
      "10 9 8 7 6 5 4 3 2 1\n",
      "9 8 7 6 5 4 3 2 1\n",
      "8 7 6 5 4 3 2 1\n",
      "7 6 5 4 3 2 1\n",
      "6 5 4 3 2 1\n",
      "5 4 3 2 1\n",
      "4 3 2 1\n",
      "3 2 1\n",
      "2 1\n",
      "1\n"
     ]
    }
   ],
   "source": [
    "piramide_inv(10)"
   ]
  },
  {
   "cell_type": "markdown",
   "metadata": {},
   "source": [
    "## Ejercicio 3\n",
    "Escribe una función que compare dos números. La función tiene dos argumentos y hay tres salidas posibles: que sean iguales, que el primero sea  mayor que el segundo, o que el segundo sea mayor que el primero"
   ]
  },
  {
   "cell_type": "code",
   "execution_count": 64,
   "metadata": {},
   "outputs": [],
   "source": [
    "def compara_num(num_1, num_2):\n",
    "    if num_1 == num_2:\n",
    "        return f\"{num_1} es igual a {num_2}\"\n",
    "    \n",
    "    elif num_1 > num_2:\n",
    "        return f\"{num_1} es mayor que {num_2}\"\n",
    "    \n",
    "    elif num_2 > num_1:\n",
    "        return f\"{num_2} es mayor que {num_1}\""
   ]
  },
  {
   "cell_type": "code",
   "execution_count": 65,
   "metadata": {},
   "outputs": [
    {
     "data": {
      "text/plain": [
       "'2 es mayor que 1'"
      ]
     },
     "execution_count": 65,
     "metadata": {},
     "output_type": "execute_result"
    }
   ],
   "source": [
    "compara_num(1, 2)"
   ]
  },
  {
   "cell_type": "markdown",
   "metadata": {},
   "source": [
    "## Ejercicio 4\n",
    "Escribe una función que sea un contador de letras. En el primer argumento tienes que introducir un texto, y el segundo que sea una letra que contar. La función tiene que devolver un entero con el número de veces que aparece esa letra, tanto mayuscula, como minúscula"
   ]
  },
  {
   "cell_type": "code",
   "execution_count": 67,
   "metadata": {},
   "outputs": [],
   "source": [
    "def cuenta_letras(texto, letra):\n",
    "    total = 0\n",
    "    mayus = 0\n",
    "    minuscula = 0\n",
    "\n",
    "    for i in texto:\n",
    "        if letra.lower() == i.lower():\n",
    "            total += 1\n",
    "        if letra.lower() == i:\n",
    "            minuscula += 1\n",
    "        if letra.upper() == i:\n",
    "            mayus += 1\n",
    "    \n",
    "    return f'Mayúsculas:{mayus}, Minúsculas: {minuscula}, Total: {total}'\n",
    "    \n"
   ]
  },
  {
   "cell_type": "code",
   "execution_count": 69,
   "metadata": {},
   "outputs": [
    {
     "name": "stdout",
     "output_type": "stream",
     "text": [
      "La letra \"a\" aparece 4 veces en el texto \"En un lugAr de la MAncha\"\n"
     ]
    }
   ],
   "source": [
    "# Otra forma con count\n",
    "def contadorLetras (texto,letra):\n",
    "\n",
    "    textoMay=texto.upper()\n",
    "    letraMay=letra.upper()\n",
    "\n",
    "    return textoMay.count(letraMay)\n",
    "\n",
    "texto=\"En un lugAr de la MAncha\"\n",
    "letra=\"a\"\n",
    "\n",
    "print(f'La letra \"{letra}\" aparece {contadorLetras(texto,letra)} veces en el texto \"{texto}\"')"
   ]
  },
  {
   "cell_type": "code",
   "execution_count": 70,
   "metadata": {},
   "outputs": [
    {
     "data": {
      "text/plain": [
       "'Mayúsculas:1, Minúsculas: 6, Total: 7'"
      ]
     },
     "execution_count": 70,
     "metadata": {},
     "output_type": "execute_result"
    }
   ],
   "source": [
    "cuenta_letras(\"HolaaaA como esta la cosa\", \"a\")"
   ]
  },
  {
   "cell_type": "markdown",
   "metadata": {},
   "source": [
    "## Ejercicio 5\n",
    "Escribe una función que tenga un único argumento, un string. La salida de la función tiene que ser un diccionario con el conteo de todas las letras de ese string, siendo la clave la letra y el valor el conteo."
   ]
  },
  {
   "cell_type": "code",
   "execution_count": 75,
   "metadata": {},
   "outputs": [],
   "source": [
    "def dicc_letras(string):\n",
    "    dict_salida = {}\n",
    "\n",
    "    for letra in string:\n",
    "        if letra not in dict_salida.keys():\n",
    "            dict_salida[letra] = 1\n",
    "        else:\n",
    "            dict_salida[letra] += 1\n",
    "    \n",
    "    return dict_salida"
   ]
  },
  {
   "cell_type": "code",
   "execution_count": 76,
   "metadata": {},
   "outputs": [
    {
     "data": {
      "text/plain": [
       "{'H': 1, 'o': 4, 'l': 1, 'a': 4, ' ': 2, 'T': 1, 'd': 1, 's': 1}"
      ]
     },
     "execution_count": 76,
     "metadata": {},
     "output_type": "execute_result"
    }
   ],
   "source": [
    "dicc_letras(\"Hoolaaa a Todos\")"
   ]
  },
  {
   "cell_type": "markdown",
   "metadata": {},
   "source": [
    "## Ejercicio 6\n",
    "Escribir una función que añada o elimine elementos en una lista. La función necesita los siguientes argumentos:\n",
    "* lista: la lista donde se añadirán o eliminarán los elementos\n",
    "* comando: \"add\" o \"remove\"\n",
    "* elemento: Por defecto es None.\n",
    "\n",
    "Tendrá como salida la lista"
   ]
  },
  {
   "cell_type": "code",
   "execution_count": 77,
   "metadata": {},
   "outputs": [],
   "source": [
    "def add_remove(lista, comando, elemento = None):\n",
    "    if comando == \"add\":\n",
    "        lista.append(elemento)\n",
    "    \n",
    "    elif comando == \"remove\":\n",
    "        lista.remove(elemento)"
   ]
  },
  {
   "cell_type": "code",
   "execution_count": 78,
   "metadata": {},
   "outputs": [
    {
     "name": "stdout",
     "output_type": "stream",
     "text": [
      "[1, 2, 3, 4, 5]\n"
     ]
    }
   ],
   "source": [
    "lista_ej_6 = [1, 2, 3, 4]\n",
    "add_remove(lista_ej_6, \"add\", 5)\n",
    "\n",
    "print(lista_ej_6)"
   ]
  },
  {
   "cell_type": "code",
   "execution_count": 79,
   "metadata": {},
   "outputs": [
    {
     "name": "stdout",
     "output_type": "stream",
     "text": [
      "[1, 2, 3]\n"
     ]
    }
   ],
   "source": [
    "lista_ej_6 = [1, 2, 3, 4]\n",
    "add_remove(lista_ej_6, \"remove\", 4)\n",
    "\n",
    "print(lista_ej_6)"
   ]
  },
  {
   "cell_type": "markdown",
   "metadata": {},
   "source": [
    "## Ejercicio 7\n",
    "Crea una función que reciba un número arbitrario de palabras, y devuelva una frase completa, separando las palabras con espacios."
   ]
  },
  {
   "cell_type": "code",
   "execution_count": 83,
   "metadata": {},
   "outputs": [],
   "source": [
    "def concatena_palabras(*palabras):\n",
    "    palabra_concat = \" \".join(palabras)\n",
    "    print(type(palabras))\n",
    "    return palabra_concat"
   ]
  },
  {
   "cell_type": "code",
   "execution_count": 84,
   "metadata": {},
   "outputs": [
    {
     "name": "stdout",
     "output_type": "stream",
     "text": [
      "<class 'tuple'>\n"
     ]
    },
    {
     "data": {
      "text/plain": [
       "'Hola mundo hoy es jueves'"
      ]
     },
     "execution_count": 84,
     "metadata": {},
     "output_type": "execute_result"
    }
   ],
   "source": [
    "concatena_palabras(\"Hola\", \"mundo\", \"hoy es\", \"jueves\")"
   ]
  },
  {
   "cell_type": "markdown",
   "metadata": {},
   "source": [
    "## Ejercicio 8\n",
    "Escribe un programa que obtenga el enésimo número de la [serie de Fibonacci](https://es.wikipedia.org/wiki/Sucesi%C3%B3n_de_Fibonacci). Tienes que crear una función recursiva con un único argumento.\n",
    "\n",
    "```Python\n",
    "fibonacci(2) = 1\n",
    "fibonacci(4) = 3\n",
    "fibonacci(5) = 5\n",
    "fibonacci(8) = 21\n",
    "```"
   ]
  },
  {
   "cell_type": "code",
   "execution_count": 100,
   "metadata": {},
   "outputs": [
    {
     "data": {
      "text/plain": [
       "55"
      ]
     },
     "execution_count": 100,
     "metadata": {},
     "output_type": "execute_result"
    }
   ],
   "source": [
    "def fibonacci(n):\n",
    "    if n == 0:\n",
    "        return 0\n",
    "    \n",
    "    elif n == 1:\n",
    "        return 1\n",
    "    \n",
    "    return fibonacci(n -1) + fibonacci(n -2)\n",
    "\n",
    "fibonacci(10)"
   ]
  },
  {
   "cell_type": "code",
   "execution_count": 90,
   "metadata": {},
   "outputs": [
    {
     "data": {
      "text/plain": [
       "21"
      ]
     },
     "execution_count": 90,
     "metadata": {},
     "output_type": "execute_result"
    }
   ],
   "source": [
    "fibonacci(8)"
   ]
  },
  {
   "cell_type": "code",
   "execution_count": 101,
   "metadata": {},
   "outputs": [
    {
     "ename": "KeyboardInterrupt",
     "evalue": "",
     "output_type": "error",
     "traceback": [
      "\u001b[1;31m---------------------------------------------------------------------------\u001b[0m",
      "\u001b[1;31mKeyboardInterrupt\u001b[0m                         Traceback (most recent call last)",
      "Cell \u001b[1;32mIn[101], line 1\u001b[0m\n\u001b[1;32m----> 1\u001b[0m \u001b[43mfibonacci\u001b[49m\u001b[43m(\u001b[49m\u001b[38;5;241;43m50\u001b[39;49m\u001b[43m)\u001b[49m\n",
      "Cell \u001b[1;32mIn[100], line 8\u001b[0m, in \u001b[0;36mfibonacci\u001b[1;34m(n)\u001b[0m\n\u001b[0;32m      5\u001b[0m \u001b[38;5;28;01melif\u001b[39;00m n \u001b[38;5;241m==\u001b[39m \u001b[38;5;241m1\u001b[39m:\n\u001b[0;32m      6\u001b[0m     \u001b[38;5;28;01mreturn\u001b[39;00m \u001b[38;5;241m1\u001b[39m\n\u001b[1;32m----> 8\u001b[0m \u001b[38;5;28;01mreturn\u001b[39;00m \u001b[43mfibonacci\u001b[49m\u001b[43m(\u001b[49m\u001b[43mn\u001b[49m\u001b[43m \u001b[49m\u001b[38;5;241;43m-\u001b[39;49m\u001b[38;5;241;43m1\u001b[39;49m\u001b[43m)\u001b[49m \u001b[38;5;241m+\u001b[39m fibonacci(n \u001b[38;5;241m-\u001b[39m\u001b[38;5;241m2\u001b[39m)\n",
      "Cell \u001b[1;32mIn[100], line 8\u001b[0m, in \u001b[0;36mfibonacci\u001b[1;34m(n)\u001b[0m\n\u001b[0;32m      5\u001b[0m \u001b[38;5;28;01melif\u001b[39;00m n \u001b[38;5;241m==\u001b[39m \u001b[38;5;241m1\u001b[39m:\n\u001b[0;32m      6\u001b[0m     \u001b[38;5;28;01mreturn\u001b[39;00m \u001b[38;5;241m1\u001b[39m\n\u001b[1;32m----> 8\u001b[0m \u001b[38;5;28;01mreturn\u001b[39;00m \u001b[43mfibonacci\u001b[49m\u001b[43m(\u001b[49m\u001b[43mn\u001b[49m\u001b[43m \u001b[49m\u001b[38;5;241;43m-\u001b[39;49m\u001b[38;5;241;43m1\u001b[39;49m\u001b[43m)\u001b[49m \u001b[38;5;241m+\u001b[39m fibonacci(n \u001b[38;5;241m-\u001b[39m\u001b[38;5;241m2\u001b[39m)\n",
      "    \u001b[1;31m[... skipping similar frames: fibonacci at line 8 (34 times)]\u001b[0m\n",
      "Cell \u001b[1;32mIn[100], line 8\u001b[0m, in \u001b[0;36mfibonacci\u001b[1;34m(n)\u001b[0m\n\u001b[0;32m      5\u001b[0m \u001b[38;5;28;01melif\u001b[39;00m n \u001b[38;5;241m==\u001b[39m \u001b[38;5;241m1\u001b[39m:\n\u001b[0;32m      6\u001b[0m     \u001b[38;5;28;01mreturn\u001b[39;00m \u001b[38;5;241m1\u001b[39m\n\u001b[1;32m----> 8\u001b[0m \u001b[38;5;28;01mreturn\u001b[39;00m \u001b[43mfibonacci\u001b[49m\u001b[43m(\u001b[49m\u001b[43mn\u001b[49m\u001b[43m \u001b[49m\u001b[38;5;241;43m-\u001b[39;49m\u001b[38;5;241;43m1\u001b[39;49m\u001b[43m)\u001b[49m \u001b[38;5;241m+\u001b[39m fibonacci(n \u001b[38;5;241m-\u001b[39m\u001b[38;5;241m2\u001b[39m)\n",
      "Cell \u001b[1;32mIn[100], line 1\u001b[0m, in \u001b[0;36mfibonacci\u001b[1;34m(n)\u001b[0m\n\u001b[1;32m----> 1\u001b[0m \u001b[38;5;28;01mdef\u001b[39;00m \u001b[38;5;21mfibonacci\u001b[39m(n):\n\u001b[0;32m      2\u001b[0m     \u001b[38;5;28;01mif\u001b[39;00m n \u001b[38;5;241m==\u001b[39m \u001b[38;5;241m0\u001b[39m:\n\u001b[0;32m      3\u001b[0m         \u001b[38;5;28;01mreturn\u001b[39;00m \u001b[38;5;241m0\u001b[39m\n",
      "\u001b[1;31mKeyboardInterrupt\u001b[0m: "
     ]
    }
   ],
   "source": [
    "fibonacci(50)"
   ]
  },
  {
   "cell_type": "code",
   "execution_count": 104,
   "metadata": {},
   "outputs": [
    {
     "name": "stdout",
     "output_type": "stream",
     "text": [
      "12586269025\n",
      "21\n"
     ]
    }
   ],
   "source": [
    "#recursividad\n",
    "\n",
    "def fibonacci(n):\n",
    "\n",
    "    fib_list = [1, 1]\n",
    "\n",
    "\n",
    "    for i in range(2, n):\n",
    "        # Calculamos el siguiente número de Fibonacci y lo añadimos a la lista\n",
    "        siguiente = fib_list[i-1] + fib_list[i-2]\n",
    "        fib_list.append(siguiente)\n",
    "\n",
    "    return fib_list\n",
    "\n",
    "print(fibonacci(50)[-1])\n",
    "\n",
    "valor = fibonacci(8)[-1]\n",
    "\n",
    "print (valor)"
   ]
  },
  {
   "cell_type": "markdown",
   "metadata": {},
   "source": [
    "## Ejercicio 9\n",
    "Define en una única celda las siguientes funciones:\n",
    "* Función que calcule el área de un cuadrado\n",
    "* Función que calcule el area de un triángulo\n",
    "* Función que calcule el área de un círculo\n",
    "\n",
    "En otra celda, calcular el area de:\n",
    "* Dos círculos de radio 10 + un triángulo de base 3 y altura 7\n",
    "* Un cuadrado de lado = 10 + 3 círculos (uno de radio = 4 y los otros dos de radio = 6) + 5 triángulos de base = 2 + altura = 4"
   ]
  },
  {
   "cell_type": "code",
   "execution_count": 94,
   "metadata": {},
   "outputs": [],
   "source": [
    "def area_cuadrado(lado):\n",
    "    return lado * lado\n",
    "\n",
    "def area_triangulo(base, altura):\n",
    "    return (base * altura) /2\n",
    "\n",
    "def area_circulo(r):\n",
    "    return 3.1416 * r **2"
   ]
  },
  {
   "cell_type": "code",
   "execution_count": 95,
   "metadata": {},
   "outputs": [
    {
     "name": "stdout",
     "output_type": "stream",
     "text": [
      "638.8199999999999\n"
     ]
    }
   ],
   "source": [
    "area_1 = (2 * area_circulo(10)) + area_triangulo(3, 7)\n",
    "print(area_1)"
   ]
  },
  {
   "cell_type": "code",
   "execution_count": 96,
   "metadata": {},
   "outputs": [
    {
     "name": "stdout",
     "output_type": "stream",
     "text": [
      "396.4608\n"
     ]
    }
   ],
   "source": [
    "area_2 = area_cuadrado(10) + area_circulo(6) + area_circulo(6) + area_circulo(4) + (5 * area_triangulo(2, 4))\n",
    "print(area_2)"
   ]
  }
 ],
 "metadata": {
  "kernelspec": {
   "display_name": "Python 3",
   "language": "python",
   "name": "python3"
  },
  "language_info": {
   "codemirror_mode": {
    "name": "ipython",
    "version": 3
   },
   "file_extension": ".py",
   "mimetype": "text/x-python",
   "name": "python",
   "nbconvert_exporter": "python",
   "pygments_lexer": "ipython3",
   "version": "3.10.2"
  },
  "vscode": {
   "interpreter": {
    "hash": "1e989a6a87260c027f3014f78a3a3d191394072689c96a40223c8499353d25ee"
   }
  }
 },
 "nbformat": 4,
 "nbformat_minor": 4
}
